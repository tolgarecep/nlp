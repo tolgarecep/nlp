{
  "nbformat": 4,
  "nbformat_minor": 0,
  "metadata": {
    "colab": {
      "provenance": []
    },
    "kernelspec": {
      "name": "python3",
      "display_name": "Python 3"
    },
    "language_info": {
      "name": "python"
    }
  },
  "cells": [
    {
      "cell_type": "code",
      "execution_count": 1,
      "metadata": {
        "id": "901yPxNkHXI4"
      },
      "outputs": [],
      "source": [
        "import torch\n",
        "import torch.nn.functional as F\n",
        "import matplotlib.pyplot as plt\n",
        "%matplotlib inline"
      ]
    },
    {
      "cell_type": "code",
      "source": [
        "words = open('/content/drive/MyDrive/LM/names.txt', 'r').read().splitlines()"
      ],
      "metadata": {
        "id": "VcgHa1hZLiJL"
      },
      "execution_count": 2,
      "outputs": []
    },
    {
      "cell_type": "code",
      "source": [
        "len(words)"
      ],
      "metadata": {
        "colab": {
          "base_uri": "https://localhost:8080/"
        },
        "id": "Bb7t_ssuLp0w",
        "outputId": "71e1e3a3-051a-49b5-8f7e-1671fe9de0af"
      },
      "execution_count": 3,
      "outputs": [
        {
          "output_type": "execute_result",
          "data": {
            "text/plain": [
              "32033"
            ]
          },
          "metadata": {},
          "execution_count": 3
        }
      ]
    },
    {
      "cell_type": "code",
      "source": [
        "chars = sorted(list(set(''.join(words))))\n",
        "stoi = {s: i+1 for i, s in enumerate(chars)}\n",
        "stoi['.'] = 0\n",
        "itos = {i: s for s, i in stoi.items()}\n",
        "print(itos)"
      ],
      "metadata": {
        "colab": {
          "base_uri": "https://localhost:8080/"
        },
        "id": "P297iO4GLq1A",
        "outputId": "f52b141a-8c41-4c38-8644-7ecd301b2a7f"
      },
      "execution_count": 4,
      "outputs": [
        {
          "output_type": "stream",
          "name": "stdout",
          "text": [
            "{1: 'a', 2: 'b', 3: 'c', 4: 'd', 5: 'e', 6: 'f', 7: 'g', 8: 'h', 9: 'i', 10: 'j', 11: 'k', 12: 'l', 13: 'm', 14: 'n', 15: 'o', 16: 'p', 17: 'q', 18: 'r', 19: 's', 20: 't', 21: 'u', 22: 'v', 23: 'w', 24: 'x', 25: 'y', 26: 'z', 0: '.'}\n"
          ]
        }
      ]
    },
    {
      "cell_type": "code",
      "source": [
        "def build_dataset(words):\n",
        "    block_size = 3\n",
        "    X, Y = [], []\n",
        "    for w in words:\n",
        "        context = [0] * block_size\n",
        "        for ch in w+'.':\n",
        "            ix = stoi[ch]\n",
        "            X.append(context)\n",
        "            Y.append(ix)\n",
        "            # print(''.join(itos[i] for i in context), '-->', itos[ix])\n",
        "            context = context[1:] + [ix]\n",
        "    \n",
        "    X = torch.tensor(X)\n",
        "    Y = torch.tensor(Y)\n",
        "    print(X.shape, Y.shape)\n",
        "    return X, Y\n",
        "\n",
        "import random\n",
        "random.shuffle(words)\n",
        "n1 = int(0.8*len(words))\n",
        "n2 = int(0.9*len(words))\n",
        "\n",
        "Xtr, Ytr = build_dataset(words[:n1])\n",
        "Xdev, Ydev = build_dataset(words[n1:n2])\n",
        "Xte, Yte = build_dataset(words[n2:])"
      ],
      "metadata": {
        "colab": {
          "base_uri": "https://localhost:8080/"
        },
        "id": "wO8L90bYMTMz",
        "outputId": "6d03060d-111a-44ef-8c3c-48557fdabccb"
      },
      "execution_count": 5,
      "outputs": [
        {
          "output_type": "stream",
          "name": "stdout",
          "text": [
            "torch.Size([182467, 3]) torch.Size([182467])\n",
            "torch.Size([22808, 3]) torch.Size([22808])\n",
            "torch.Size([22871, 3]) torch.Size([22871])\n"
          ]
        }
      ]
    },
    {
      "cell_type": "code",
      "source": [
        "# F.one_hot(X, num_classes=27).float() @ C\n",
        "# btw this is just matrix multiplication of matrices \n",
        "# 3x27 and 27x2, then stacking the 3x2 vectors of N samples   \n",
        "# so pytorch has no problem with the product of 3D and 2D\n",
        "# tensors (gets around without broadcasting), but can't\n",
        "# product 3D and 3D."
      ],
      "metadata": {
        "id": "SGA7_jaDPSiY"
      },
      "execution_count": 6,
      "outputs": []
    },
    {
      "cell_type": "code",
      "source": [
        "## different approaches to concatenation\n",
        "# torch.cat([emb[:,0,:],emb[:,1,:],emb[:,2,:]], 1) not generalizable\n",
        "# torch.cat(torch.unbind(emb, 1), 1) # unbind removes a dim. this returns a tuple\n",
        "# of block_size tensors, each 32x2\n",
        "# emb.view(-1, 6) more efficient way"
      ],
      "metadata": {
        "id": "FS6qOShuUpTs"
      },
      "execution_count": 7,
      "outputs": []
    },
    {
      "cell_type": "code",
      "source": [
        "C = torch.randn((27, 10)) # embedding matrix\n",
        "W1 = torch.randn((30, 300))\n",
        "b1 = torch.randn(300)\n",
        "W2 = torch.randn((300, 27))\n",
        "b2 = torch.randn(27)\n",
        "parameters = [C, W1, b1, W2, b2]\n",
        "\n",
        "for p in parameters:\n",
        "    p.requires_grad = True\n",
        "\n",
        "sum(param.nelement() for param in parameters)"
      ],
      "metadata": {
        "colab": {
          "base_uri": "https://localhost:8080/"
        },
        "id": "eZhYIxW6ZCar",
        "outputId": "d1616f7d-70f6-4a7b-9e45-f8ac2f5ddadb"
      },
      "execution_count": 139,
      "outputs": [
        {
          "output_type": "execute_result",
          "data": {
            "text/plain": [
              "17697"
            ]
          },
          "metadata": {},
          "execution_count": 139
        }
      ]
    },
    {
      "cell_type": "code",
      "source": [
        "# lre = torch.linspace(-3, 0, 1000)\n",
        "# lrs = 10**lre\n",
        "# lri = []\n",
        "# lossi = []\n",
        "# stepi = []\n",
        "for i in range(200000):\n",
        "    # mini-batch\n",
        "    # now the update is not in the actual gradient direction, but good enough;\n",
        "    # in practice, it's better to take many approximately good steps\n",
        "    # instead of few good steps\n",
        "    ix = torch.randint(0, Xtr.shape[0], (64,))\n",
        "\n",
        "    # forward pass\n",
        "    emb = C[Xtr[ix]]\n",
        "    h = torch.tanh(emb.view(-1, 30) @ W1 + b1)\n",
        "    logits = h @ W2 + b2\n",
        "    # counts = logits.exp()\n",
        "    # prob = counts / counts.sum(1, keepdim=True)\n",
        "    # loss = -prob[torch.arange(X.shape[0]), Y].log().mean()\n",
        "    loss = F.cross_entropy(logits, Ytr[ix]) # logits -= logits.max() solves\n",
        "    # exploding logits.exp()\n",
        "\n",
        "    # backward pass\n",
        "    for p in parameters:\n",
        "        p.grad = None\n",
        "    loss.backward()\n",
        "\n",
        "    # update\n",
        "    lr = 0.1 if i < 100000 else 0.01\n",
        "    for p in parameters:\n",
        "        p.data -= lr * p.grad\n",
        "\n",
        "    # track\n",
        "    # lri.append(lre[i])\n",
        "    # stepi.append(i)\n",
        "    # lossi.append(loss.item())"
      ],
      "metadata": {
        "id": "rq0QDzI5b_v8"
      },
      "execution_count": 140,
      "outputs": []
    },
    {
      "cell_type": "code",
      "source": [
        "# plt.plot(lri, lossi)"
      ],
      "metadata": {
        "colab": {
          "base_uri": "https://localhost:8080/",
          "height": 286
        },
        "id": "5Z7vnCKb6orx",
        "outputId": "a71856d3-09ac-4d2f-dd20-1b9e64fd2c6b"
      },
      "execution_count": 99,
      "outputs": [
        {
          "output_type": "execute_result",
          "data": {
            "text/plain": [
              "[<matplotlib.lines.Line2D at 0x7fe87c36f4f0>]"
            ]
          },
          "metadata": {},
          "execution_count": 99
        },
        {
          "output_type": "display_data",
          "data": {
            "text/plain": [
              "<Figure size 432x288 with 1 Axes>"
            ],
            "image/png": "[encoded data removed]"
          },
          "metadata": {
            "needs_background": "light"
          }
        }
      ]
    },
    {
      "cell_type": "code",
      "source": [
        "emb = C[Xtr]\n",
        "h = torch.tanh(emb.view(-1, 30) @ W1 + b1)\n",
        "logits = h @ W2 + b2\n",
        "loss = F.cross_entropy(logits, Ytr)\n",
        "print(loss.item())"
      ],
      "metadata": {
        "colab": {
          "base_uri": "https://localhost:8080/"
        },
        "id": "sx8ZAKfTAqY4",
        "outputId": "2cf6ed56-d99f-4774-d03c-a783a8ebbcc0"
      },
      "execution_count": 141,
      "outputs": [
        {
          "output_type": "stream",
          "name": "stdout",
          "text": [
            "2.0990991592407227\n"
          ]
        }
      ]
    },
    {
      "cell_type": "code",
      "source": [
        "# development\n",
        "emb = C[Xdev]\n",
        "h = torch.tanh(emb.view(-1, 30) @ W1 + b1)\n",
        "logits = h @ W2 + b2\n",
        "loss = F.cross_entropy(logits, Ydev)\n",
        "print(loss.item())"
      ],
      "metadata": {
        "colab": {
          "base_uri": "https://localhost:8080/"
        },
        "id": "yOEpVMNT_2qA",
        "outputId": "f3b5d20b-a13d-45c9-f1e3-ed2015b378b5"
      },
      "execution_count": 142,
      "outputs": [
        {
          "output_type": "stream",
          "name": "stdout",
          "text": [
            "2.1711552143096924\n"
          ]
        }
      ]
    },
    {
      "cell_type": "code",
      "source": [
        "# plt.plot(stepi, lossi)\n",
        "# lr=.1, bigger hidden layer\n",
        "# mini-batch creates this noise"
      ],
      "metadata": {
        "colab": {
          "base_uri": "https://localhost:8080/",
          "height": 282
        },
        "id": "qd4JSwC-CDrh",
        "outputId": "b4635393-0379-4ba7-dc22-2b6b5a521150"
      },
      "execution_count": 115,
      "outputs": [
        {
          "output_type": "execute_result",
          "data": {
            "text/plain": [
              "[<matplotlib.lines.Line2D at 0x7fe87c281af0>]"
            ]
          },
          "metadata": {},
          "execution_count": 115
        },
        {
          "output_type": "display_data",
          "data": {
            "text/plain": [
              "<Figure size 432x288 with 1 Axes>"
            ],
            "image/png": "[encoded data removed]"
          },
          "metadata": {
            "needs_background": "light"
          }
        }
      ]
    },
    {
      "cell_type": "code",
      "source": [
        "plt.figure(figsize=(8,8))\n",
        "plt.scatter(C[:,0].data, C[:,1].data, s=200)\n",
        "for i in range(C.shape[0]):\n",
        "  plt.text(C[i,0].item(), C[i,1].item(), itos[i], ha='center', va='center', color='white')\n",
        "plt.grid('minor')"
      ],
      "metadata": {
        "colab": {
          "base_uri": "https://localhost:8080/",
          "height": 483
        },
        "id": "NRqmJ6zIC7d5",
        "outputId": "8d865f0e-be86-4379-e595-a74a20015124"
      },
      "execution_count": 121,
      "outputs": [
        {
          "output_type": "display_data",
          "data": {
            "text/plain": [
              "<Figure size 576x576 with 1 Axes>"
            ],
            "image/png": "[encoded data removed]"
          },
          "metadata": {
            "needs_background": "light"
          }
        }
      ]
    },
    {
      "cell_type": "code",
      "source": [
        "# visualize 10-dim. embeddings with t-SNE\n",
        "from sklearn.manifold import TSNE\n",
        "tsne = TSNE(2)\n",
        "tsne_result = tsne.fit_transform(C.detach().numpy())\n",
        "\n",
        "plt.figure(figsize=(8,8))\n",
        "plt.scatter(tsne_result[:,0], tsne_result[:,1], s=200)\n",
        "for i in range(C.shape[0]):\n",
        "  plt.text(tsne_result[i,0], tsne_result[i,1], itos[i], ha='center', va='center', color='white')\n",
        "plt.grid('minor')"
      ],
      "metadata": {
        "colab": {
          "base_uri": "https://localhost:8080/",
          "height": 552
        },
        "id": "qZ06ETvSDkiW",
        "outputId": "3953e01d-ec77-4252-b3e4-d3255d316a40"
      },
      "execution_count": 145,
      "outputs": [
        {
          "output_type": "stream",
          "name": "stderr",
          "text": [
            "/usr/local/lib/python3.8/dist-packages/sklearn/manifold/_t_sne.py:780: FutureWarning: The default initialization in TSNE will change from 'random' to 'pca' in 1.2.\n",
            "  warnings.warn(\n",
            "/usr/local/lib/python3.8/dist-packages/sklearn/manifold/_t_sne.py:790: FutureWarning: The default learning rate in TSNE will change from 200.0 to 'auto' in 1.2.\n",
            "  warnings.warn(\n"
          ]
        },
        {
          "output_type": "display_data",
          "data": {
            "text/plain": [
              "<Figure size 576x576 with 1 Axes>"
            ],
            "image/png": "[encoded data removed]"
          },
          "metadata": {
            "needs_background": "light"
          }
        }
      ]
    },
    {
      "cell_type": "code",
      "source": [
        "# sampling from the model\n",
        "for _ in range(20):\n",
        "  out = []\n",
        "  context = [0] * 3\n",
        "  while True:\n",
        "    emb = C[torch.tensor([context])]\n",
        "    h = torch.tanh(emb.view(-1, 30) @ W1 + b1)\n",
        "    logits = h @ W2 + b2\n",
        "    probs = F.softmax(logits, dim=1)\n",
        "    ix = torch.multinomial(probs, num_samples=1).item()\n",
        "    context = context[1:] + [ix]\n",
        "    out.append(ix)\n",
        "    if ix == 0:\n",
        "      break\n",
        "  print(''.join(itos[i] for i in out))"
      ],
      "metadata": {
        "colab": {
          "base_uri": "https://localhost:8080/"
        },
        "id": "TUS2OAvMH4cU",
        "outputId": "161e072d-4e14-4c1e-c9d2-a9fb20b32e82"
      },
      "execution_count": 148,
      "outputs": [
        {
          "output_type": "stream",
          "name": "stdout",
          "text": [
            "dayah.\n",
            "beira.\n",
            "mya.\n",
            "tas.\n",
            "gia.\n",
            "zeyah.\n",
            "theod.\n",
            "embedenai.\n",
            "mavand.\n",
            "joaluse.\n",
            "theem.\n",
            "odencite.\n",
            "crecerlin.\n",
            "ila.\n",
            "cora.\n",
            "sosaialey.\n",
            "firin.\n",
            "androh.\n",
            "has.\n",
            "ber.\n"
          ]
        }
      ]
    }
  ]
}